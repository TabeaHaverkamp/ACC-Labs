{
 "cells": [
  {
   "cell_type": "markdown",
   "metadata": {},
   "source": [
    "# Computer Lab 2, Part I"
   ]
  },
  {
   "cell_type": "markdown",
   "metadata": {},
   "source": [
    "This notebook consists of instructions, exercises and questions that form the practical part of Lab II, Part I. In this assignment, you will learn the basics of the OpenStack Python APIs that can be used to interact directly with the IaaS services Keystone (Identity), Glance (Image) and Nova (compute). Please prepare your solution and answers to questions directly in this notebook, and export it to PDF. Upload that PDF as to the student portal to complete Part I of the Lab.  "
   ]
  },
  {
   "cell_type": "markdown",
   "metadata": {},
   "source": [
    "## Task - 1"
   ]
  },
  {
   "cell_type": "code",
   "execution_count": 2,
   "metadata": {},
   "outputs": [],
   "source": [
    "from os import environ as env\n",
    "import keystoneclient.v3.client as ksclient\n",
    "from keystoneauth1.identity import v3\n",
    "from keystoneauth1 import loading\n",
    "from keystoneauth1 import session\n",
    "import time, os, sys\n",
    "import inspect\n",
    "from os import environ as env\n",
    "from novaclient import client\n",
    "from statistics import mean\n"
   ]
  },
  {
   "cell_type": "markdown",
   "metadata": {},
   "source": [
    "To establish a client connection, we will need to pass a dictionary with information about the tenant, user, credentials and the API Identity endpoint. Here, I have sourced the \"openrc.sh file\" obtained from the Horizon dashboard in the underlying shell prior to starting the notebook. Hence, in order to actually run the code below, you would need to do the same with your own credentials. "
   ]
  },
  {
   "cell_type": "code",
   "execution_count": 3,
   "metadata": {},
   "outputs": [],
   "source": [
    "keystone = ksclient.Client(auth_url=env['OS_AUTH_URL'],\n",
    "                           username=env['OS_USERNAME'],\n",
    "                           password=env['OS_PASSWORD'],\n",
    "                           project_name=env['OS_PROJECT_NAME'],\n",
    "                           project_domain_name=env['OS_USER_DOMAIN_NAME'],\n",
    "                           project_id=env['OS_PROJECT_ID'],\n",
    "                           version=env['OS_IDENTITY_API_VERSION'],\n",
    "                           user_domain_name=env['OS_USER_DOMAIN_NAME'],\n",
    "                           region_name=env['OS_REGION_NAME'])"
   ]
  },
  {
   "cell_type": "markdown",
   "metadata": {},
   "source": [
    "Next command will collect all the available endpoints in keystone."
   ]
  },
  {
   "cell_type": "code",
   "execution_count": 4,
   "metadata": {},
   "outputs": [],
   "source": [
    "endpoints = keystone.service_catalog.get_endpoints()"
   ]
  },
  {
   "cell_type": "markdown",
   "metadata": {
    "collapsed": true
   },
   "source": [
    "Next section will print the services with associated infromation."
   ]
  },
  {
   "cell_type": "code",
   "execution_count": 5,
   "metadata": {},
   "outputs": [
    {
     "name": "stdout",
     "output_type": "stream",
     "text": [
      "service:  compute , region:  east-1 , public endpoint:  https://east-1.cloud.snic.se:8774/v2.1\n",
      "service:  identity , region:  east-1 , public endpoint:  https://east-1.cloud.snic.se:5000\n",
      "service:  cloudformation , region:  east-1 , public endpoint:  https://east-1.cloud.snic.se:8000/v1\n",
      "service:  orchestration , region:  east-1 , public endpoint:  https://east-1.cloud.snic.se:8004/v1/fc1aade83c2e49baa7498b3918560d9f\n",
      "service:  network , region:  east-1 , public endpoint:  https://east-1.cloud.snic.se:9696\n",
      "service:  volumev3 , region:  east-1 , public endpoint:  https://east-1.cloud.snic.se:8776/v3/fc1aade83c2e49baa7498b3918560d9f\n",
      "service:  image , region:  east-1 , public endpoint:  https://east-1.cloud.snic.se:9292\n",
      "service:  metric , region:  east-1 , public endpoint:  https://130.238.28.5:8041\n",
      "service:  placement , region:  east-1 , public endpoint:  https://east-1.cloud.snic.se:8780\n",
      "service:  volumev2 , region:  east-1 , public endpoint:  https://east-1.cloud.snic.se:8776/v2/fc1aade83c2e49baa7498b3918560d9f\n"
     ]
    }
   ],
   "source": [
    "for endpoint in endpoints:\n",
    "    for edp in endpoints[endpoint]:\n",
    "        if edp['interface'] == ('public' or 'internal') :\n",
    "            print ('service: ', endpoint, ', region: ', edp['region'], ', public endpoint: ', edp['url'])"
   ]
  },
  {
   "cell_type": "markdown",
   "metadata": {},
   "source": [
    "## Questions:"
   ]
  },
  {
   "cell_type": "markdown",
   "metadata": {},
   "source": [
    "1. **Explain the working of the code?**  \n",
    "\n",
    "A keystone client with the API's environment variables is created. After that, the endpoints are taken and interfaces with internal or public interfaces are printed.\n",
    "\n",
    "\n",
    "\n",
    "2. **Why we need openrc file to run this code?**  \n",
    "\n",
    "The file needs to be sourced so that the Variables (as OS_AUTH_URL) are set.\n",
    "\n",
    "3. **The code shows information about the \"public\" endpoints. Modify the code to show both the \"public\" and \"internal\" endpoints?**  \n",
    "\n",
    "Done, look above.\n",
    "\n",
    "4. **What is the difference between \"internal\" and \"public\" endpoints?**  \n",
    "\n",
    "*Internal endpoints* are used for instance-to-instance communication. It can be used for http, tcp, udp, and any.  *External endpoints* are used to access the instance from outside the cluster.\n"
   ]
  },
  {
   "cell_type": "markdown",
   "metadata": {
    "collapsed": true
   },
   "source": [
    "## Task - 2"
   ]
  },
  {
   "cell_type": "markdown",
   "metadata": {
    "collapsed": true
   },
   "source": [
    "In this task you need to write a small python program using Keystone and Nova APIs to list all the available VMs in the project. \n",
    "\n",
    "Use the following links and the code available in Task-1. \n",
    "\n",
    "https://docs.openstack.org/python-novaclient/pike/   \n",
    "https://docs.openstack.org/python-novaclient/pike/reference/api/index.html\n"
   ]
  },
  {
   "cell_type": "code",
   "execution_count": 6,
   "metadata": {},
   "outputs": [
    {
     "name": "stdout",
     "output_type": "stream",
     "text": [
      "https://east-1.cloud.snic.se:5000/v3\n"
     ]
    }
   ],
   "source": [
    "print(env['OS_AUTH_URL'])"
   ]
  },
  {
   "cell_type": "code",
   "execution_count": 7,
   "metadata": {},
   "outputs": [
    {
     "name": "stdout",
     "output_type": "stream",
     "text": [
      "user authorization completed.\n"
     ]
    },
    {
     "data": {
      "text/plain": [
       "[<Server: Henkeinst-200922L>,\n",
       " <Server: wezh_lab2>,\n",
       " <Server: shreyas_spark>,\n",
       " <Server: yudu_lab11>,\n",
       " <Server: shreyas_ansible>,\n",
       " <Server: Stina_2>,\n",
       " <Server: li-ju-python>,\n",
       " <Server: Ellinor_c2>,\n",
       " <Server: dani_lab2_inst3>,\n",
       " <Server: Henkeinst-200922>,\n",
       " <Server: max_soneback_docker>,\n",
       " <Server: vmTabeaDocker>,\n",
       " <Server: maha_c2>,\n",
       " <Server: li-ju>,\n",
       " <Server: Julie-Lab2>,\n",
       " <Server: ray_stack_1-my_instance0-34bqo55nod4d>,\n",
       " <Server: ray_stack_1-my_instance1-qzdarbz7ys2x>,\n",
       " <Server: stack_with_init_script-my_instance0-fxeamr6khcgk>,\n",
       " <Server: stack_with_init_script-my_instance1-wnj3b3ns7jty>,\n",
       " <Server: saria_azam2>,\n",
       " <Server: sotiris_stack-my_instance1-jeeti32nenm3>,\n",
       " <Server: sotiris_stack-my_instance0-5nhxvbbcvnx4>,\n",
       " <Server: Raheel2>,\n",
       " <Server: ahameed1>,\n",
       " <Server: Ego_Ass2>,\n",
       " <Server: Kev-instance>,\n",
       " <Server: mj-docker>,\n",
       " <Server: task5vm_test>,\n",
       " <Server: Salman Toor>,\n",
       " <Server: dapi_vm1>,\n",
       " <Server: lisa_vm1>,\n",
       " <Server: lisa_vm1>,\n",
       " <Server: saria_azam>,\n",
       " <Server: girish_vm1>,\n",
       " <Server: ester_vm1>,\n",
       " <Server: meriton>,\n",
       " <Server: ester_vm1>,\n",
       " <Server: vm1>,\n",
       " <Server: ester_vm1>,\n",
       " <Server: mj-lab2>,\n",
       " <Server: kevinaja_vm1>,\n",
       " <Server: akshai_c2>,\n",
       " <Server: ester_vm1>,\n",
       " <Server: ester_vm1>,\n",
       " <Server: C-2>,\n",
       " <Server: ester_vm1>,\n",
       " <Server: girish-c2>,\n",
       " <Server: vmTabea>,\n",
       " <Server: sai_lab2>,\n",
       " <Server: Stina_C2>,\n",
       " <Server: test_instance_lab1>,\n",
       " <Server: Sotiris_Python>,\n",
       " <Server: ester_vm1>,\n",
       " <Server: TianruZ_lab2>,\n",
       " <Server: Raheel_C2>,\n",
       " <Server: vm1>,\n",
       " <Server: jovi3089_C2>,\n",
       " <Server: JS>,\n",
       " <Server: LisaLab2>,\n",
       " <Server: Tabea_C2>,\n",
       " <Server: ahameed>,\n",
       " <Server: Max_Soneback_C2>,\n",
       " <Server: meby3>,\n",
       " <Server: emgo2250_L2>,\n",
       " <Server: kevaja_c2>,\n",
       " <Server: ester>,\n",
       " <Server: Sotiris_C2>,\n",
       " <Server: vm_test>,\n",
       " <Server: dapi1>,\n",
       " <Server: Marcus_Instance>,\n",
       " <Server: lab_1>,\n",
       " <Server: test_lab2>]"
      ]
     },
     "execution_count": 7,
     "metadata": {},
     "output_type": "execute_result"
    }
   ],
   "source": [
    "\n",
    "flavor = \"ssc.xsmall\"\n",
    "private_net = 'UPPMAX 2020/1-2 Internal IPv4 Network' #192.168.2.141\n",
    "floating_ip_pool_name = None # limited amount of resources, that's why we don't use it.\n",
    "floating_ip = None #130.238.29.102\n",
    "image_name = 'Ubuntu 18.04'\n",
    "\n",
    "loader = loading.get_plugin_loader('password')\n",
    "\n",
    "# the UPPMAX.rc needs to be sourced for this\n",
    "auth = loader.load_from_options(auth_url=env['OS_AUTH_URL'],\n",
    "                                username=env['OS_USERNAME'],\n",
    "                                password=env['OS_PASSWORD'],\n",
    "                                project_name=env['OS_PROJECT_NAME'],\n",
    "                                project_domain_name=env['OS_USER_DOMAIN_NAME'],\n",
    "                                project_id=env['OS_PROJECT_ID'],\n",
    "                                user_domain_name=env['OS_USER_DOMAIN_NAME'])\n",
    "\n",
    "sess = session.Session(auth=auth)\n",
    "nova = client.Client('2.1', session=sess)\n",
    "print (\"user authorization completed.\")\n",
    "\n",
    "nova.servers.list()\n",
    "\n"
   ]
  },
  {
   "cell_type": "markdown",
   "metadata": {},
   "source": [
    "## Same exercise, but not using loading:"
   ]
  },
  {
   "cell_type": "code",
   "execution_count": 8,
   "metadata": {},
   "outputs": [
    {
     "data": {
      "text/plain": [
       "[<Server: Henkeinst-200922L>,\n",
       " <Server: wezh_lab2>,\n",
       " <Server: shreyas_spark>,\n",
       " <Server: yudu_lab11>,\n",
       " <Server: shreyas_ansible>,\n",
       " <Server: Stina_2>,\n",
       " <Server: li-ju-python>,\n",
       " <Server: Ellinor_c2>,\n",
       " <Server: dani_lab2_inst3>,\n",
       " <Server: Henkeinst-200922>,\n",
       " <Server: max_soneback_docker>,\n",
       " <Server: vmTabeaDocker>,\n",
       " <Server: maha_c2>,\n",
       " <Server: li-ju>,\n",
       " <Server: Julie-Lab2>,\n",
       " <Server: ray_stack_1-my_instance0-34bqo55nod4d>,\n",
       " <Server: ray_stack_1-my_instance1-qzdarbz7ys2x>,\n",
       " <Server: stack_with_init_script-my_instance0-fxeamr6khcgk>,\n",
       " <Server: stack_with_init_script-my_instance1-wnj3b3ns7jty>,\n",
       " <Server: saria_azam2>,\n",
       " <Server: sotiris_stack-my_instance1-jeeti32nenm3>,\n",
       " <Server: sotiris_stack-my_instance0-5nhxvbbcvnx4>,\n",
       " <Server: Raheel2>,\n",
       " <Server: ahameed1>,\n",
       " <Server: Ego_Ass2>,\n",
       " <Server: Kev-instance>,\n",
       " <Server: mj-docker>,\n",
       " <Server: task5vm_test>,\n",
       " <Server: Salman Toor>,\n",
       " <Server: dapi_vm1>,\n",
       " <Server: lisa_vm1>,\n",
       " <Server: lisa_vm1>,\n",
       " <Server: saria_azam>,\n",
       " <Server: girish_vm1>,\n",
       " <Server: ester_vm1>,\n",
       " <Server: meriton>,\n",
       " <Server: ester_vm1>,\n",
       " <Server: vm1>,\n",
       " <Server: ester_vm1>,\n",
       " <Server: mj-lab2>,\n",
       " <Server: kevinaja_vm1>,\n",
       " <Server: akshai_c2>,\n",
       " <Server: ester_vm1>,\n",
       " <Server: ester_vm1>,\n",
       " <Server: C-2>,\n",
       " <Server: ester_vm1>,\n",
       " <Server: girish-c2>,\n",
       " <Server: vmTabea>,\n",
       " <Server: sai_lab2>,\n",
       " <Server: Stina_C2>,\n",
       " <Server: test_instance_lab1>,\n",
       " <Server: Sotiris_Python>,\n",
       " <Server: ester_vm1>,\n",
       " <Server: TianruZ_lab2>,\n",
       " <Server: Raheel_C2>,\n",
       " <Server: vm1>,\n",
       " <Server: jovi3089_C2>,\n",
       " <Server: JS>,\n",
       " <Server: LisaLab2>,\n",
       " <Server: Tabea_C2>,\n",
       " <Server: ahameed>,\n",
       " <Server: Max_Soneback_C2>,\n",
       " <Server: meby3>,\n",
       " <Server: emgo2250_L2>,\n",
       " <Server: kevaja_c2>,\n",
       " <Server: ester>,\n",
       " <Server: Sotiris_C2>,\n",
       " <Server: vm_test>,\n",
       " <Server: dapi1>,\n",
       " <Server: Marcus_Instance>,\n",
       " <Server: lab_1>,\n",
       " <Server: test_lab2>]"
      ]
     },
     "execution_count": 8,
     "metadata": {},
     "output_type": "execute_result"
    }
   ],
   "source": [
    "# Set variables\n",
    "auth_url = env['OS_AUTH_URL']\n",
    "username=env['OS_USERNAME']\n",
    "password=env['OS_PASSWORD']\n",
    "project_id=env['OS_PROJECT_ID']\n",
    "user_domain_name = env['OS_USER_DOMAIN_NAME']\n",
    "project_name = env['OS_PROJECT_NAME']\n",
    "project_domain_name = 'Default'\n",
    "\n",
    "\n",
    "# Create the auth object:\n",
    "auth = v3.Password(auth_url=auth_url,\n",
    "                   username=username,\n",
    "                   password=password,\n",
    "                   project_id=project_id,\n",
    "                   user_domain_name=user_domain_name)\n",
    "sess = session.Session(auth=auth)\n",
    "\n",
    "keystone = ksclient.Client(session=sess)\n",
    "\n",
    "# Create Nova Client Object:\n",
    "nova = client.Client(2, session=keystone.session)\n",
    "\n",
    "# Print the Vms:                \n",
    "nova.servers.list()\n"
   ]
  },
  {
   "cell_type": "markdown",
   "metadata": {},
   "source": [
    "## Task - 3:"
   ]
  },
  {
   "cell_type": "markdown",
   "metadata": {},
   "source": [
    "Try to measure the speed with which you can put and get files to and from volumes. Conduct your experiment several times to gather statistic and plot \n",
    "\n",
    "a) A estimated distribution of the time taken (in wall clock) to write and read a file of size 10MB in your volume and   \n",
    "b) vary the size of the file from 10kB to 100MB and plot the read and write throughput (in MB/s) times as a function of file size (for the smaller data sizes, you might need to repeat the experiment many times and obtain a statistical average). Use \"Root\" disk as a reference point. Include the resulting graphs and a description of your experiment in the report."
   ]
  },
  {
   "cell_type": "code",
   "execution_count": 63,
   "metadata": {},
   "outputs": [
    {
     "name": "stdout",
     "output_type": "stream",
     "text": [
      "['10K.txt', '50K.txt', '100K.txt', '500K.txt', '10M.txt', '50M.txt', '100M.txt']\n"
     ]
    }
   ],
   "source": [
    "import matplotlib.pyplot as plt\n",
    "import shutil\n",
    "import time \n",
    "import os\n",
    "\n",
    "\n",
    "# get files to copy\n",
    "filenames = [\"10K\", \"50K\", \"100K\", \"500K\", \"10M\", \"50M\", \"100M\"]\n",
    "filenames = [f + \".txt\" for f in filenames]\n",
    "\n",
    "# initialise the dictionary to save the copy time\n",
    "copy_time_instToVol = {}\n",
    "copy_time_volToInst = {}\n",
    "for val in filenames:\n",
    "    copy_time_volToInst.setdefault(val, [])\n",
    "    copy_time_instToVol.setdefault(val, [])\n",
    "\n",
    "\n",
    "for i in range(0,10):\n",
    "    for filename in filenames:\n",
    "        start = time.time()\n",
    "        shutil.copy(f'/mnt/{filename}', '/home/ubuntu/speed')\n",
    "        diff = time.time() - start\n",
    "        copy_time_volToInst[filename].append(diff)\n",
    "\n",
    "for i in range(0,10):\n",
    "    for filename in filenames:\n",
    "        start = time.time()\n",
    "        shutil.copy(f'/home/ubuntu/speed/{filename}', f'/mnt/test')\n",
    "        diff = time.time() - start\n",
    "        copy_time_instToVol[filename].append(diff)\n",
    "        \n",
    "\n",
    "avg = {}\n",
    "for key,vals in copy_time_instToVol.items():\n",
    "    avg[key] = mean(vals)\n",
    "\n",
    "avg2={}\n",
    "for key,vals in copy_time_volToInst.items():\n",
    "    avg2[key] = mean(vals)\n",
    "    \n",
    "# access files in the virtual machine\n",
    "# want to see to attach another volume, mount it somewhere. Create files of different sizes, transfer those files \n",
    "# to different volumes.\n",
    "# Plot the results\n",
    "\n",
    "\n"
   ]
  },
  {
   "cell_type": "code",
   "execution_count": 64,
   "metadata": {},
   "outputs": [
    {
     "data": {
      "image/png": "[encoded data removed]",
      "text/plain": [
       "<Figure size 432x288 with 1 Axes>"
      ]
     },
     "metadata": {
      "needs_background": "light"
     },
     "output_type": "display_data"
    },
    {
     "data": {
      "image/png": "[encoded data removed]",
      "text/plain": [
       "<Figure size 432x288 with 1 Axes>"
      ]
     },
     "metadata": {
      "needs_background": "light"
     },
     "output_type": "display_data"
    },
    {
     "data": {
      "image/png": "[encoded data removed]",
      "text/plain": [
       "<Figure size 432x288 with 1 Axes>"
      ]
     },
     "metadata": {
      "needs_background": "light"
     },
     "output_type": "display_data"
    }
   ],
   "source": [
    "plt.plot(*zip(*avg.items()),  c='red', label = 'average to Volume')\n",
    "plt.plot(*zip(*copy_time_instToVol.items()), '+', c='grey')\n",
    "plt.ylabel(\"seconds\")\n",
    "plt.xlabel(\"file\")\n",
    "plt.title(\"to Volume\")\n",
    "plt.show()\n",
    "\n",
    "\n",
    "plt.plot(*zip(*avg2.items()),  c='green',  label = 'average from Volume')\n",
    "plt.plot(*zip(*copy_time_volToInst.items()), '*', c='grey')\n",
    "plt.ylabel(\"seconds\")\n",
    "plt.xlabel(\"file\")\n",
    "plt.title(\"from Volume\")\n",
    "plt.show()\n",
    "\n",
    "\n",
    "    \n",
    "\n",
    "plt.plot(*zip(*avg.items()),  c='red', label = 'average to Volume')\n",
    "plt.plot(*zip(*copy_time_instToVol.items()), '*', c='grey')\n",
    "plt.plot(*zip(*avg2.items()),  c='green', label = \"average from Volume\")\n",
    "plt.plot(*zip(*copy_time_volToInst.items()), '+', c='black')\n",
    "\n",
    "plt.ylabel(\"seconds\")\n",
    "plt.xlabel(\"file\")\n",
    "plt.title(\"Averages of copying from/to Tabea_C2_Speed\")\n",
    "plt.legend()\n",
    "plt.show()\n"
   ]
  },
  {
   "cell_type": "markdown",
   "metadata": {},
   "source": [
    "Don't foget to terminate resources after your experiments. "
   ]
  },
  {
   "cell_type": "code",
   "execution_count": null,
   "metadata": {
    "collapsed": true
   },
   "outputs": [],
   "source": [
    "# Clean up volumes"
   ]
  }
 ],
 "metadata": {
  "kernelspec": {
   "display_name": "Python 3",
   "language": "python",
   "name": "python3"
  },
  "language_info": {
   "codemirror_mode": {
    "name": "ipython",
    "version": 3
   },
   "file_extension": ".py",
   "mimetype": "text/x-python",
   "name": "python",
   "nbconvert_exporter": "python",
   "pygments_lexer": "ipython3",
   "version": "3.6.9"
  }
 },
 "nbformat": 4,
 "nbformat_minor": 1
}
